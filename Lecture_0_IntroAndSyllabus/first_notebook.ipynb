{
 "cells": [
  {
   "cell_type": "code",
   "execution_count": 1,
   "id": "1677c3e1",
   "metadata": {},
   "outputs": [
    {
     "name": "stdout",
     "output_type": "stream",
     "text": [
      "My name is Julian Salazar Hidalgo\n"
     ]
    }
   ],
   "source": [
    "print(\"My name is Julian Salazar Hidalgo\")"
   ]
  },
  {
   "cell_type": "markdown",
   "id": "956a5595",
   "metadata": {},
   "source": [
    "<font size=\"10\"> \n",
    "\n",
    "This is my first Jupyter notebook"
   ]
  }
 ],
 "metadata": {
  "kernelspec": {
   "display_name": "base",
   "language": "python",
   "name": "python3"
  },
  "language_info": {
   "codemirror_mode": {
    "name": "ipython",
    "version": 3
   },
   "file_extension": ".py",
   "mimetype": "text/x-python",
   "name": "python",
   "nbconvert_exporter": "python",
   "pygments_lexer": "ipython3",
   "version": "3.13.5"
  }
 },
 "nbformat": 4,
 "nbformat_minor": 5
}
